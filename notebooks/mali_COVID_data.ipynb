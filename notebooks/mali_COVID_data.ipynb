{
 "cells": [
  {
   "cell_type": "code",
   "execution_count": 1,
   "id": "british-particle",
   "metadata": {},
   "outputs": [],
   "source": [
    "import os\n",
    "import re\n",
    "import pandas as pd"
   ]
  },
  {
   "cell_type": "code",
   "execution_count": 2,
   "id": "ethical-taylor",
   "metadata": {},
   "outputs": [],
   "source": [
    "os.chdir(\"/Users/luisgranados/Downloads/COVID-19 Panel Phone Survey of Households 2020/\")"
   ]
  },
  {
   "cell_type": "code",
   "execution_count": 3,
   "id": "based-spanish",
   "metadata": {},
   "outputs": [],
   "source": [
    "surveys = os.listdir()"
   ]
  },
  {
   "cell_type": "code",
   "execution_count": 13,
   "id": "blind-stake",
   "metadata": {},
   "outputs": [
    {
     "name": "stdout",
     "output_type": "stream",
     "text": [
      "round3_s08_perte_revenu.csv\n",
      "round3_s05_emploi_revenu_covid.csv\n",
      "round1_s05_emploi_revenu_covid_as.csv\n",
      "round1_s06_prix_securite_alimentaire.csv\n",
      "round2_s05_emploi_revenu_covid.csv\n"
     ]
    }
   ],
   "source": [
    "for i, file in enumerate(surveys):\n",
    "    survey_number = re.search(r'[\\\\s][\\d]+', file)\n",
    "    if survey_number != None and survey_number.group(0) in ['s05', 's06', 's07', 's08']:\n",
    "        if i == 0:\n",
    "            df = pd.read_csv(file)\n",
    "        else:\n",
    "            survey = pd.read_csv(file)\n",
    "            df = df.merge(survey, how='outer', on='hhid')"
   ]
  }
 ],
 "metadata": {
  "kernelspec": {
   "display_name": "Python 3",
   "language": "python",
   "name": "python3"
  },
  "language_info": {
   "codemirror_mode": {
    "name": "ipython",
    "version": 3
   },
   "file_extension": ".py",
   "mimetype": "text/x-python",
   "name": "python",
   "nbconvert_exporter": "python",
   "pygments_lexer": "ipython3",
   "version": "3.8.8"
  }
 },
 "nbformat": 4,
 "nbformat_minor": 5
}
